{
 "cells": [
  {
   "cell_type": "code",
   "id": "initial_id",
   "metadata": {
    "collapsed": true,
    "jupyter": {
     "is_executing": true
    },
    "ExecuteTime": {
     "start_time": "2024-09-25T16:37:01.693926Z"
    }
   },
   "source": [
    "# Import necessary libraries\n",
    "import math\n",
    "import numpy as np\n",
    "import plotly.graph_objs as go\n",
    "from plotly.subplots import make_subplots\n",
    "from ipywidgets import interactive, FloatSlider, VBox\n",
    "from scipy.stats import norm\n",
    "\n",
    "# Function to calculate the Black-Scholes call option price, delta, and gamma\n",
    "def black_scholes_call(S, K, T, r, sigma):\n",
    "    d1 = (math.log(S/K) + (r + (sigma**2)/2) * T) / (sigma * math.sqrt(T))\n",
    "    d2 = d1 - sigma * math.sqrt(T)\n",
    "    N_d1 = norm.cdf(d1) \n",
    "    N_d2 = norm.cdf(d2) \n",
    "    call_price = (S * N_d1) - (K * math.exp(-r * T) * N_d2)\n",
    "    delta = N_d1\n",
    "    gamma = norm.pdf(d1) / (S * sigma * math.sqrt(T))\n",
    "    return call_price, delta, gamma\n",
    "\n",
    "# Function to generate the data for the plot\n",
    "def generate_data(K, T, r, sigma):\n",
    "    stock_prices = np.linspace(50, 150, 100)\n",
    "    option_prices = []\n",
    "    deltas = []\n",
    "    gammas = []\n",
    "    \n",
    "    for S in stock_prices:\n",
    "        call_price, delta, gamma = black_scholes_call(S, K, T, r, sigma)\n",
    "        option_prices.append(call_price)\n",
    "        deltas.append(delta)\n",
    "        gammas.append(gamma)\n",
    "        \n",
    "    return stock_prices, option_prices, deltas, gammas\n",
    "\n",
    "# Function to create the interactive plot\n",
    "def create_plot(K, T, r, sigma):\n",
    "    stock_prices, option_prices, deltas, gammas = generate_data(K, T, r, sigma)\n",
    "    \n",
    "    # Create subplots\n",
    "    fig = make_subplots(rows=3, cols=1, subplot_titles=('Call Option Price', 'Delta', 'Gamma'))\n",
    "    \n",
    "    # Call Option Price\n",
    "    fig.add_trace(go.Scatter(x=stock_prices, y=option_prices, mode='lines', name='Call Option Price'), row=1, col=1)\n",
    "    # Delta\n",
    "    fig.add_trace(go.Scatter(x=stock_prices, y=deltas, mode='lines', name='Delta', line=dict(color='green')), row=2, col=1)\n",
    "    # Gamma\n",
    "    fig.add_trace(go.Scatter(x=stock_prices, y=gammas, mode='lines', name='Gamma', line=dict(color='red')), row=3, col=1)\n",
    "    \n",
    "    # Update layout\n",
    "    fig.update_layout(height=900, width=800, title_text=f\"Option Metrics for K={K}, T={T}, r={r}, σ={sigma}\")\n",
    "    fig.update_xaxes(title_text=\"Stock Price (S)\")\n",
    "    fig.update_yaxes(title_text=\"Call Option Price\", row=1, col=1)\n",
    "    fig.update_yaxes(title_text=\"Delta\", row=2, col=1)\n",
    "    fig.update_yaxes(title_text=\"Gamma\", row=3, col=1)\n",
    "    \n",
    "    # Show the plot\n",
    "    fig.show()\n",
    "\n",
    "# Define the interactive widgets\n",
    "K_slider = FloatSlider(value=95, min=50, max=150, step=1, description='Strike Price (K):')\n",
    "T_slider = FloatSlider(value=0.5, min=0.01, max=2, step=0.01, description='Time to Maturity (T):')\n",
    "r_slider = FloatSlider(value=0.05, min=0, max=0.2, step=0.01, description='Risk-free Rate (r):')\n",
    "sigma_slider = FloatSlider(value=0.2, min=0.1, max=1, step=0.01, description='Volatility (σ):')\n",
    "\n",
    "# Create the interactive plot\n",
    "interactive_plot = interactive(create_plot, K=K_slider, T=T_slider, r=r_slider, sigma=sigma_slider)\n",
    "\n",
    "# Display the interactive plot\n",
    "VBox([interactive_plot])\n"
   ],
   "outputs": [
    {
     "data": {
      "text/plain": [
       "VBox(children=(interactive(children=(FloatSlider(value=95.0, description='Strike Price (K):', max=150.0, min=5…"
      ],
      "application/vnd.jupyter.widget-view+json": {
       "version_major": 2,
       "version_minor": 0,
       "model_id": "f39b791198304820ab07c64da1055d05"
      }
     },
     "execution_count": 1,
     "metadata": {},
     "output_type": "execute_result"
    }
   ],
   "execution_count": null
  },
  {
   "metadata": {},
   "cell_type": "markdown",
   "source": "",
   "id": "3168cc009dc5a066"
  },
  {
   "metadata": {},
   "cell_type": "markdown",
   "source": "",
   "id": "62c02931de2868e6"
  }
 ],
 "metadata": {
  "kernelspec": {
   "display_name": "Python 3",
   "language": "python",
   "name": "python3"
  },
  "language_info": {
   "codemirror_mode": {
    "name": "ipython",
    "version": 2
   },
   "file_extension": ".py",
   "mimetype": "text/x-python",
   "name": "python",
   "nbconvert_exporter": "python",
   "pygments_lexer": "ipython2",
   "version": "2.7.6"
  }
 },
 "nbformat": 4,
 "nbformat_minor": 5
}
